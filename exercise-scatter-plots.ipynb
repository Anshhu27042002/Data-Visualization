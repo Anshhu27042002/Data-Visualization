{
 "cells": [
  {
   "cell_type": "markdown",
   "id": "1ba58129",
   "metadata": {
    "papermill": {
     "duration": 0.010484,
     "end_time": "2023-02-15T05:19:49.794427",
     "exception": false,
     "start_time": "2023-02-15T05:19:49.783943",
     "status": "completed"
    },
    "tags": []
   },
   "source": [
    "**This notebook is an exercise in the [Data Visualization](https://www.kaggle.com/learn/data-visualization) course.  You can reference the tutorial at [this link](https://www.kaggle.com/alexisbcook/scatter-plots).**\n",
    "\n",
    "---\n"
   ]
  },
  {
   "cell_type": "markdown",
   "id": "99f97cb0",
   "metadata": {
    "papermill": {
     "duration": 0.008309,
     "end_time": "2023-02-15T05:19:49.811706",
     "exception": false,
     "start_time": "2023-02-15T05:19:49.803397",
     "status": "completed"
    },
    "tags": []
   },
   "source": [
    "In this exercise, you will use your new knowledge to propose a solution to a real-world scenario.  To succeed, you will need to import data into Python, answer questions using the data, and generate **scatter plots** to understand patterns in the data.\n",
    "\n",
    "## Scenario\n",
    "\n",
    "You work for a major candy producer, and your goal is to write a report that your company can use to guide the design of its next product.  Soon after starting your research, you stumble across this [very interesting dataset](https://fivethirtyeight.com/features/the-ultimate-halloween-candy-power-ranking/) containing results from a fun survey to crowdsource favorite candies.\n",
    "\n",
    "## Setup\n",
    "\n",
    "Run the next cell to import and configure the Python libraries that you need to complete the exercise."
   ]
  },
  {
   "cell_type": "code",
   "execution_count": 1,
   "id": "f65c44ba",
   "metadata": {
    "execution": {
     "iopub.execute_input": "2023-02-15T05:19:49.831009Z",
     "iopub.status.busy": "2023-02-15T05:19:49.830370Z",
     "iopub.status.idle": "2023-02-15T05:19:50.754754Z",
     "shell.execute_reply": "2023-02-15T05:19:50.753946Z"
    },
    "papermill": {
     "duration": 0.937936,
     "end_time": "2023-02-15T05:19:50.758176",
     "exception": false,
     "start_time": "2023-02-15T05:19:49.820240",
     "status": "completed"
    },
    "tags": []
   },
   "outputs": [
    {
     "name": "stdout",
     "output_type": "stream",
     "text": [
      "Setup Complete\n"
     ]
    }
   ],
   "source": [
    "import pandas as pd\n",
    "pd.plotting.register_matplotlib_converters()\n",
    "import matplotlib.pyplot as plt\n",
    "%matplotlib inline\n",
    "import seaborn as sns\n",
    "print(\"Setup Complete\")"
   ]
  },
  {
   "cell_type": "markdown",
   "id": "8dee01d7",
   "metadata": {
    "papermill": {
     "duration": 0.008369,
     "end_time": "2023-02-15T05:19:50.776500",
     "exception": false,
     "start_time": "2023-02-15T05:19:50.768131",
     "status": "completed"
    },
    "tags": []
   },
   "source": [
    "The questions below will give you feedback on your work. Run the following cell to set up our feedback system."
   ]
  },
  {
   "cell_type": "code",
   "execution_count": 2,
   "id": "d859f960",
   "metadata": {
    "execution": {
     "iopub.execute_input": "2023-02-15T05:19:50.795885Z",
     "iopub.status.busy": "2023-02-15T05:19:50.795447Z",
     "iopub.status.idle": "2023-02-15T05:19:50.854556Z",
     "shell.execute_reply": "2023-02-15T05:19:50.853525Z"
    },
    "papermill": {
     "duration": 0.07188,
     "end_time": "2023-02-15T05:19:50.857104",
     "exception": false,
     "start_time": "2023-02-15T05:19:50.785224",
     "status": "completed"
    },
    "tags": []
   },
   "outputs": [
    {
     "name": "stdout",
     "output_type": "stream",
     "text": [
      "Setup Complete\n"
     ]
    }
   ],
   "source": [
    "# Set up code checking\n",
    "import os\n",
    "if not os.path.exists(\"../input/candy.csv\"):\n",
    "    os.symlink(\"../input/data-for-datavis/candy.csv\", \"../input/candy.csv\") \n",
    "from learntools.core import binder\n",
    "binder.bind(globals())\n",
    "from learntools.data_viz_to_coder.ex4 import *\n",
    "print(\"Setup Complete\")"
   ]
  },
  {
   "cell_type": "markdown",
   "id": "c50b023c",
   "metadata": {
    "papermill": {
     "duration": 0.008538,
     "end_time": "2023-02-15T05:19:50.874731",
     "exception": false,
     "start_time": "2023-02-15T05:19:50.866193",
     "status": "completed"
    },
    "tags": []
   },
   "source": [
    "## Step 1: Load the Data\n",
    "\n",
    "Read the candy data file into `candy_data`.  Use the `\"id\"` column to label the rows."
   ]
  },
  {
   "cell_type": "code",
   "execution_count": 3,
   "id": "01e27465",
   "metadata": {
    "execution": {
     "iopub.execute_input": "2023-02-15T05:19:50.894602Z",
     "iopub.status.busy": "2023-02-15T05:19:50.893447Z",
     "iopub.status.idle": "2023-02-15T05:19:50.909574Z",
     "shell.execute_reply": "2023-02-15T05:19:50.908419Z"
    },
    "papermill": {
     "duration": 0.028311,
     "end_time": "2023-02-15T05:19:50.911729",
     "exception": false,
     "start_time": "2023-02-15T05:19:50.883418",
     "status": "completed"
    },
    "tags": []
   },
   "outputs": [
    {
     "data": {
      "application/javascript": [
       "parent.postMessage({\"jupyterEvent\": \"custom.exercise_interaction\", \"data\": {\"outcomeType\": 1, \"valueTowardsCompletion\": 0.3333333333333333, \"interactionType\": 1, \"questionType\": 1, \"questionId\": \"1_LoadData\", \"learnToolsVersion\": \"0.3.4\", \"failureMessage\": \"\", \"exceptionClass\": \"\", \"trace\": \"\"}}, \"*\")"
      ],
      "text/plain": [
       "<IPython.core.display.Javascript object>"
      ]
     },
     "metadata": {},
     "output_type": "display_data"
    },
    {
     "data": {
      "text/markdown": [
       "<span style=\"color:#33cc33\">Correct</span>"
      ],
      "text/plain": [
       "Correct"
      ]
     },
     "metadata": {},
     "output_type": "display_data"
    }
   ],
   "source": [
    "# Path of the file to read\n",
    "candy_filepath = \"../input/candy.csv\"\n",
    "\n",
    "# Fill in the line below to read the file into a variable candy_data\n",
    "candy_data = pd.read_csv(candy_filepath, index_col=\"id\")\n",
    "\n",
    "# Run the line below with no changes to check that you've loaded the data correctly\n",
    "step_1.check()"
   ]
  },
  {
   "cell_type": "code",
   "execution_count": 4,
   "id": "fb1ffe86",
   "metadata": {
    "execution": {
     "iopub.execute_input": "2023-02-15T05:19:50.931807Z",
     "iopub.status.busy": "2023-02-15T05:19:50.931379Z",
     "iopub.status.idle": "2023-02-15T05:19:50.935977Z",
     "shell.execute_reply": "2023-02-15T05:19:50.934969Z"
    },
    "papermill": {
     "duration": 0.017391,
     "end_time": "2023-02-15T05:19:50.938126",
     "exception": false,
     "start_time": "2023-02-15T05:19:50.920735",
     "status": "completed"
    },
    "tags": []
   },
   "outputs": [],
   "source": [
    "# Lines below will give you a hint or solution code\n",
    "#step_1.hint()\n",
    "#step_1.solution()"
   ]
  },
  {
   "cell_type": "markdown",
   "id": "7d9bd55a",
   "metadata": {
    "papermill": {
     "duration": 0.008676,
     "end_time": "2023-02-15T05:19:50.955683",
     "exception": false,
     "start_time": "2023-02-15T05:19:50.947007",
     "status": "completed"
    },
    "tags": []
   },
   "source": [
    "## Step 2: Review the data\n",
    "\n",
    "Use a Python command to print the first five rows of the data."
   ]
  },
  {
   "cell_type": "code",
   "execution_count": 5,
   "id": "b8de4f7b",
   "metadata": {
    "execution": {
     "iopub.execute_input": "2023-02-15T05:19:50.975517Z",
     "iopub.status.busy": "2023-02-15T05:19:50.974539Z",
     "iopub.status.idle": "2023-02-15T05:19:50.997111Z",
     "shell.execute_reply": "2023-02-15T05:19:50.996024Z"
    },
    "papermill": {
     "duration": 0.034866,
     "end_time": "2023-02-15T05:19:50.999422",
     "exception": false,
     "start_time": "2023-02-15T05:19:50.964556",
     "status": "completed"
    },
    "tags": []
   },
   "outputs": [
    {
     "data": {
      "text/html": [
       "<div>\n",
       "<style scoped>\n",
       "    .dataframe tbody tr th:only-of-type {\n",
       "        vertical-align: middle;\n",
       "    }\n",
       "\n",
       "    .dataframe tbody tr th {\n",
       "        vertical-align: top;\n",
       "    }\n",
       "\n",
       "    .dataframe thead th {\n",
       "        text-align: right;\n",
       "    }\n",
       "</style>\n",
       "<table border=\"1\" class=\"dataframe\">\n",
       "  <thead>\n",
       "    <tr style=\"text-align: right;\">\n",
       "      <th></th>\n",
       "      <th>competitorname</th>\n",
       "      <th>chocolate</th>\n",
       "      <th>fruity</th>\n",
       "      <th>caramel</th>\n",
       "      <th>peanutyalmondy</th>\n",
       "      <th>nougat</th>\n",
       "      <th>crispedricewafer</th>\n",
       "      <th>hard</th>\n",
       "      <th>bar</th>\n",
       "      <th>pluribus</th>\n",
       "      <th>sugarpercent</th>\n",
       "      <th>pricepercent</th>\n",
       "      <th>winpercent</th>\n",
       "    </tr>\n",
       "    <tr>\n",
       "      <th>id</th>\n",
       "      <th></th>\n",
       "      <th></th>\n",
       "      <th></th>\n",
       "      <th></th>\n",
       "      <th></th>\n",
       "      <th></th>\n",
       "      <th></th>\n",
       "      <th></th>\n",
       "      <th></th>\n",
       "      <th></th>\n",
       "      <th></th>\n",
       "      <th></th>\n",
       "      <th></th>\n",
       "    </tr>\n",
       "  </thead>\n",
       "  <tbody>\n",
       "    <tr>\n",
       "      <th>0</th>\n",
       "      <td>100 Grand</td>\n",
       "      <td>Yes</td>\n",
       "      <td>No</td>\n",
       "      <td>Yes</td>\n",
       "      <td>No</td>\n",
       "      <td>No</td>\n",
       "      <td>Yes</td>\n",
       "      <td>No</td>\n",
       "      <td>Yes</td>\n",
       "      <td>No</td>\n",
       "      <td>0.732</td>\n",
       "      <td>0.860</td>\n",
       "      <td>66.971725</td>\n",
       "    </tr>\n",
       "    <tr>\n",
       "      <th>1</th>\n",
       "      <td>3 Musketeers</td>\n",
       "      <td>Yes</td>\n",
       "      <td>No</td>\n",
       "      <td>No</td>\n",
       "      <td>No</td>\n",
       "      <td>Yes</td>\n",
       "      <td>No</td>\n",
       "      <td>No</td>\n",
       "      <td>Yes</td>\n",
       "      <td>No</td>\n",
       "      <td>0.604</td>\n",
       "      <td>0.511</td>\n",
       "      <td>67.602936</td>\n",
       "    </tr>\n",
       "    <tr>\n",
       "      <th>2</th>\n",
       "      <td>Air Heads</td>\n",
       "      <td>No</td>\n",
       "      <td>Yes</td>\n",
       "      <td>No</td>\n",
       "      <td>No</td>\n",
       "      <td>No</td>\n",
       "      <td>No</td>\n",
       "      <td>No</td>\n",
       "      <td>No</td>\n",
       "      <td>No</td>\n",
       "      <td>0.906</td>\n",
       "      <td>0.511</td>\n",
       "      <td>52.341465</td>\n",
       "    </tr>\n",
       "    <tr>\n",
       "      <th>3</th>\n",
       "      <td>Almond Joy</td>\n",
       "      <td>Yes</td>\n",
       "      <td>No</td>\n",
       "      <td>No</td>\n",
       "      <td>Yes</td>\n",
       "      <td>No</td>\n",
       "      <td>No</td>\n",
       "      <td>No</td>\n",
       "      <td>Yes</td>\n",
       "      <td>No</td>\n",
       "      <td>0.465</td>\n",
       "      <td>0.767</td>\n",
       "      <td>50.347546</td>\n",
       "    </tr>\n",
       "    <tr>\n",
       "      <th>4</th>\n",
       "      <td>Baby Ruth</td>\n",
       "      <td>Yes</td>\n",
       "      <td>No</td>\n",
       "      <td>Yes</td>\n",
       "      <td>Yes</td>\n",
       "      <td>Yes</td>\n",
       "      <td>No</td>\n",
       "      <td>No</td>\n",
       "      <td>Yes</td>\n",
       "      <td>No</td>\n",
       "      <td>0.604</td>\n",
       "      <td>0.767</td>\n",
       "      <td>56.914547</td>\n",
       "    </tr>\n",
       "  </tbody>\n",
       "</table>\n",
       "</div>"
      ],
      "text/plain": [
       "   competitorname chocolate fruity caramel peanutyalmondy nougat  \\\n",
       "id                                                                 \n",
       "0       100 Grand       Yes     No     Yes             No     No   \n",
       "1    3 Musketeers       Yes     No      No             No    Yes   \n",
       "2       Air Heads        No    Yes      No             No     No   \n",
       "3      Almond Joy       Yes     No      No            Yes     No   \n",
       "4       Baby Ruth       Yes     No     Yes            Yes    Yes   \n",
       "\n",
       "   crispedricewafer hard  bar pluribus  sugarpercent  pricepercent  winpercent  \n",
       "id                                                                              \n",
       "0               Yes   No  Yes       No         0.732         0.860   66.971725  \n",
       "1                No   No  Yes       No         0.604         0.511   67.602936  \n",
       "2                No   No   No       No         0.906         0.511   52.341465  \n",
       "3                No   No  Yes       No         0.465         0.767   50.347546  \n",
       "4                No   No  Yes       No         0.604         0.767   56.914547  "
      ]
     },
     "execution_count": 5,
     "metadata": {},
     "output_type": "execute_result"
    }
   ],
   "source": [
    "# Print the first five rows of the data\n",
    "____ # Your code here\n",
    "candy_data.head()"
   ]
  },
  {
   "cell_type": "markdown",
   "id": "d9e22a02",
   "metadata": {
    "papermill": {
     "duration": 0.008803,
     "end_time": "2023-02-15T05:19:51.017787",
     "exception": false,
     "start_time": "2023-02-15T05:19:51.008984",
     "status": "completed"
    },
    "tags": []
   },
   "source": [
    "The dataset contains 83 rows, where each corresponds to a different candy bar.  There are 13 columns:\n",
    "- `'competitorname'` contains the name of the candy bar. \n",
    "- the next **9** columns (from `'chocolate'` to `'pluribus'`) describe the candy.  For instance, rows with chocolate candies have `\"Yes\"` in the `'chocolate'` column (and candies without chocolate have `\"No\"` in the same column).\n",
    "- `'sugarpercent'` provides some indication of the amount of sugar, where higher values signify higher sugar content.\n",
    "- `'pricepercent'` shows the price per unit, relative to the other candies in the dataset.\n",
    "- `'winpercent'` is calculated from the survey results; higher values indicate that the candy was more popular with survey respondents.\n",
    "\n",
    "Use the first five rows of the data to answer the questions below."
   ]
  },
  {
   "cell_type": "code",
   "execution_count": 6,
   "id": "5ff80802",
   "metadata": {
    "execution": {
     "iopub.execute_input": "2023-02-15T05:19:51.038080Z",
     "iopub.status.busy": "2023-02-15T05:19:51.037685Z",
     "iopub.status.idle": "2023-02-15T05:19:51.046938Z",
     "shell.execute_reply": "2023-02-15T05:19:51.045870Z"
    },
    "papermill": {
     "duration": 0.021949,
     "end_time": "2023-02-15T05:19:51.049144",
     "exception": false,
     "start_time": "2023-02-15T05:19:51.027195",
     "status": "completed"
    },
    "tags": []
   },
   "outputs": [
    {
     "data": {
      "application/javascript": [
       "parent.postMessage({\"jupyterEvent\": \"custom.exercise_interaction\", \"data\": {\"outcomeType\": 1, \"valueTowardsCompletion\": 0.3333333333333333, \"interactionType\": 1, \"questionType\": 1, \"questionId\": \"2_ReviewData\", \"learnToolsVersion\": \"0.3.4\", \"failureMessage\": \"\", \"exceptionClass\": \"\", \"trace\": \"\"}}, \"*\")"
      ],
      "text/plain": [
       "<IPython.core.display.Javascript object>"
      ]
     },
     "metadata": {},
     "output_type": "display_data"
    },
    {
     "data": {
      "text/markdown": [
       "<span style=\"color:#33cc33\">Correct</span>"
      ],
      "text/plain": [
       "Correct"
      ]
     },
     "metadata": {},
     "output_type": "display_data"
    }
   ],
   "source": [
    "# Fill in the line below: Which candy was more popular with survey respondents:\n",
    "# '3 Musketeers' or 'Almond Joy'?  (Please enclose your answer in single quotes.)\n",
    "more_popular = '3 Musketeers'\n",
    "\n",
    "# Fill in the line below: Which candy has higher sugar content: 'Air Heads'\n",
    "# or 'Baby Ruth'? (Please enclose your answer in single quotes.)\n",
    "more_sugar = 'Air Heads'\n",
    "\n",
    "# Check your answers\n",
    "step_2.check()"
   ]
  },
  {
   "cell_type": "code",
   "execution_count": 7,
   "id": "4c793171",
   "metadata": {
    "execution": {
     "iopub.execute_input": "2023-02-15T05:19:51.070572Z",
     "iopub.status.busy": "2023-02-15T05:19:51.069432Z",
     "iopub.status.idle": "2023-02-15T05:19:51.074412Z",
     "shell.execute_reply": "2023-02-15T05:19:51.073525Z"
    },
    "papermill": {
     "duration": 0.01801,
     "end_time": "2023-02-15T05:19:51.076757",
     "exception": false,
     "start_time": "2023-02-15T05:19:51.058747",
     "status": "completed"
    },
    "tags": []
   },
   "outputs": [],
   "source": [
    "# Lines below will give you a hint or solution code\n",
    "#step_2.hint()\n",
    "#step_2.solution()"
   ]
  },
  {
   "cell_type": "markdown",
   "id": "dd8bf011",
   "metadata": {
    "papermill": {
     "duration": 0.009043,
     "end_time": "2023-02-15T05:19:51.095310",
     "exception": false,
     "start_time": "2023-02-15T05:19:51.086267",
     "status": "completed"
    },
    "tags": []
   },
   "source": [
    "## Step 3: The role of sugar\n",
    "\n",
    "Do people tend to prefer candies with higher sugar content?  \n",
    "\n",
    "#### Part A\n",
    "\n",
    "Create a scatter plot that shows the relationship between `'sugarpercent'` (on the horizontal x-axis) and `'winpercent'` (on the vertical y-axis).  _Don't add a regression line just yet -- you'll do that in the next step!_"
   ]
  },
  {
   "cell_type": "code",
   "execution_count": 8,
   "id": "75a74f89",
   "metadata": {
    "execution": {
     "iopub.execute_input": "2023-02-15T05:19:51.116030Z",
     "iopub.status.busy": "2023-02-15T05:19:51.115426Z",
     "iopub.status.idle": "2023-02-15T05:19:51.406883Z",
     "shell.execute_reply": "2023-02-15T05:19:51.405719Z"
    },
    "papermill": {
     "duration": 0.304502,
     "end_time": "2023-02-15T05:19:51.409216",
     "exception": false,
     "start_time": "2023-02-15T05:19:51.104714",
     "status": "completed"
    },
    "tags": []
   },
   "outputs": [
    {
     "data": {
      "application/javascript": [
       "parent.postMessage({\"jupyterEvent\": \"custom.exercise_interaction\", \"data\": {\"outcomeType\": 1, \"valueTowardsCompletion\": 0.3333333333333333, \"interactionType\": 1, \"questionType\": 2, \"questionId\": \"3.1_PlotBlueScatter\", \"learnToolsVersion\": \"0.3.4\", \"failureMessage\": \"\", \"exceptionClass\": \"\", \"trace\": \"\"}}, \"*\")"
      ],
      "text/plain": [
       "<IPython.core.display.Javascript object>"
      ]
     },
     "metadata": {},
     "output_type": "display_data"
    },
    {
     "data": {
      "text/markdown": [
       "<span style=\"color:#33cc33\">Correct</span>"
      ],
      "text/plain": [
       "Correct"
      ]
     },
     "metadata": {},
     "output_type": "display_data"
    },
    {
     "data": {
      "image/png": "[encoded data removed]",
      "text/plain": [
       "<Figure size 640x480 with 1 Axes>"
      ]
     },
     "metadata": {},
     "output_type": "display_data"
    }
   ],
   "source": [
    "# Scatter plot showing the relationship between 'sugarpercent' and 'winpercent'\n",
    "____ # Your code here\n",
    "\n",
    "sns.scatterplot(x=candy_data['sugarpercent'], y=candy_data['winpercent'])\n",
    "# Check your answer\n",
    "step_3.a.check()"
   ]
  },
  {
   "cell_type": "code",
   "execution_count": 9,
   "id": "1259e4bd",
   "metadata": {
    "execution": {
     "iopub.execute_input": "2023-02-15T05:19:51.431171Z",
     "iopub.status.busy": "2023-02-15T05:19:51.430756Z",
     "iopub.status.idle": "2023-02-15T05:19:51.434812Z",
     "shell.execute_reply": "2023-02-15T05:19:51.433735Z"
    },
    "papermill": {
     "duration": 0.017826,
     "end_time": "2023-02-15T05:19:51.437108",
     "exception": false,
     "start_time": "2023-02-15T05:19:51.419282",
     "status": "completed"
    },
    "tags": []
   },
   "outputs": [],
   "source": [
    "# Lines below will give you a hint or solution code\n",
    "#step_3.a.hint()\n",
    "#step_3.a.solution_plot()"
   ]
  },
  {
   "cell_type": "markdown",
   "id": "74972df8",
   "metadata": {
    "papermill": {
     "duration": 0.009679,
     "end_time": "2023-02-15T05:19:51.456909",
     "exception": false,
     "start_time": "2023-02-15T05:19:51.447230",
     "status": "completed"
    },
    "tags": []
   },
   "source": [
    "#### Part B\n",
    "\n",
    "Does the scatter plot show a **strong** correlation between the two variables?  If so, are candies with more sugar relatively more or less popular with the survey respondents?"
   ]
  },
  {
   "cell_type": "code",
   "execution_count": 10,
   "id": "b8d4c2e3",
   "metadata": {
    "execution": {
     "iopub.execute_input": "2023-02-15T05:19:51.478857Z",
     "iopub.status.busy": "2023-02-15T05:19:51.478426Z",
     "iopub.status.idle": "2023-02-15T05:19:51.483076Z",
     "shell.execute_reply": "2023-02-15T05:19:51.482319Z"
    },
    "papermill": {
     "duration": 0.018171,
     "end_time": "2023-02-15T05:19:51.485106",
     "exception": false,
     "start_time": "2023-02-15T05:19:51.466935",
     "status": "completed"
    },
    "tags": []
   },
   "outputs": [],
   "source": [
    "#step_3.b.hint()"
   ]
  },
  {
   "cell_type": "code",
   "execution_count": 11,
   "id": "bb507522",
   "metadata": {
    "execution": {
     "iopub.execute_input": "2023-02-15T05:19:51.507441Z",
     "iopub.status.busy": "2023-02-15T05:19:51.506761Z",
     "iopub.status.idle": "2023-02-15T05:19:51.515642Z",
     "shell.execute_reply": "2023-02-15T05:19:51.514625Z"
    },
    "papermill": {
     "duration": 0.022788,
     "end_time": "2023-02-15T05:19:51.517929",
     "exception": false,
     "start_time": "2023-02-15T05:19:51.495141",
     "status": "completed"
    },
    "tags": []
   },
   "outputs": [
    {
     "data": {
      "application/javascript": [
       "parent.postMessage({\"jupyterEvent\": \"custom.exercise_interaction\", \"data\": {\"interactionType\": 3, \"questionType\": 4, \"questionId\": \"3.2_ThinkBlueScatter\", \"learnToolsVersion\": \"0.3.4\", \"valueTowardsCompletion\": 0.0, \"failureMessage\": \"\", \"exceptionClass\": \"\", \"trace\": \"\", \"outcomeType\": 4}}, \"*\")"
      ],
      "text/plain": [
       "<IPython.core.display.Javascript object>"
      ]
     },
     "metadata": {},
     "output_type": "display_data"
    },
    {
     "data": {
      "text/markdown": [
       "<span style=\"color:#33cc99\">Solution:</span> The scatter plot does not show a strong correlation between the two variables. Since there is no clear relationship between the two variables, this tells us that sugar content does not play a strong role in candy popularity."
      ],
      "text/plain": [
       "Solution: The scatter plot does not show a strong correlation between the two variables. Since there is no clear relationship between the two variables, this tells us that sugar content does not play a strong role in candy popularity."
      ]
     },
     "metadata": {},
     "output_type": "display_data"
    }
   ],
   "source": [
    "# Check your answer (Run this code cell to receive credit!)\n",
    "step_3.b.solution()"
   ]
  },
  {
   "cell_type": "markdown",
   "id": "1e533eba",
   "metadata": {
    "papermill": {
     "duration": 0.009957,
     "end_time": "2023-02-15T05:19:51.538370",
     "exception": false,
     "start_time": "2023-02-15T05:19:51.528413",
     "status": "completed"
    },
    "tags": []
   },
   "source": [
    "## Step 4: Take a closer look\n",
    "\n",
    "#### Part A\n",
    "\n",
    "Create the same scatter plot you created in **Step 3**, but now with a regression line!"
   ]
  },
  {
   "cell_type": "code",
   "execution_count": 12,
   "id": "13f8b3f1",
   "metadata": {
    "execution": {
     "iopub.execute_input": "2023-02-15T05:19:51.560787Z",
     "iopub.status.busy": "2023-02-15T05:19:51.560355Z",
     "iopub.status.idle": "2023-02-15T05:19:51.911498Z",
     "shell.execute_reply": "2023-02-15T05:19:51.910708Z"
    },
    "papermill": {
     "duration": 0.36514,
     "end_time": "2023-02-15T05:19:51.913717",
     "exception": false,
     "start_time": "2023-02-15T05:19:51.548577",
     "status": "completed"
    },
    "tags": []
   },
   "outputs": [
    {
     "data": {
      "application/javascript": [
       "parent.postMessage({\"jupyterEvent\": \"custom.exercise_interaction\", \"data\": {\"outcomeType\": 1, \"valueTowardsCompletion\": 0.3333333333333333, \"interactionType\": 1, \"questionType\": 2, \"questionId\": \"4.1_PlotBlueReg\", \"learnToolsVersion\": \"0.3.4\", \"failureMessage\": \"\", \"exceptionClass\": \"\", \"trace\": \"\"}}, \"*\")"
      ],
      "text/plain": [
       "<IPython.core.display.Javascript object>"
      ]
     },
     "metadata": {},
     "output_type": "display_data"
    },
    {
     "data": {
      "text/markdown": [
       "<span style=\"color:#33cc33\">Correct</span>"
      ],
      "text/plain": [
       "Correct"
      ]
     },
     "metadata": {},
     "output_type": "display_data"
    },
    {
     "data": {
      "image/png": "[encoded data removed]",
      "text/plain": [
       "<Figure size 640x480 with 1 Axes>"
      ]
     },
     "metadata": {},
     "output_type": "display_data"
    }
   ],
   "source": [
    "# Scatter plot w/ regression line showing the relationship between 'sugarpercent' and 'winpercent'\n",
    "____ # Your code here\n",
    "sns.regplot(x=candy_data['sugarpercent'],y=candy_data['winpercent'])\n",
    "# Check your answer\n",
    "step_4.a.check()"
   ]
  },
  {
   "cell_type": "code",
   "execution_count": 13,
   "id": "0e6f809d",
   "metadata": {
    "execution": {
     "iopub.execute_input": "2023-02-15T05:19:51.938386Z",
     "iopub.status.busy": "2023-02-15T05:19:51.937302Z",
     "iopub.status.idle": "2023-02-15T05:19:51.941840Z",
     "shell.execute_reply": "2023-02-15T05:19:51.940924Z"
    },
    "papermill": {
     "duration": 0.01916,
     "end_time": "2023-02-15T05:19:51.944141",
     "exception": false,
     "start_time": "2023-02-15T05:19:51.924981",
     "status": "completed"
    },
    "tags": []
   },
   "outputs": [],
   "source": [
    "# Lines below will give you a hint or solution code\n",
    "#step_4.a.hint()\n",
    "#step_4.a.solution_plot()"
   ]
  },
  {
   "cell_type": "markdown",
   "id": "70be99f1",
   "metadata": {
    "papermill": {
     "duration": 0.010813,
     "end_time": "2023-02-15T05:19:51.966214",
     "exception": false,
     "start_time": "2023-02-15T05:19:51.955401",
     "status": "completed"
    },
    "tags": []
   },
   "source": [
    "#### Part B\n",
    "\n",
    "According to the plot above, is there a **slight** correlation between `'winpercent'` and `'sugarpercent'`?  What does this tell you about the candy that people tend to prefer?"
   ]
  },
  {
   "cell_type": "code",
   "execution_count": 14,
   "id": "7052b6d7",
   "metadata": {
    "execution": {
     "iopub.execute_input": "2023-02-15T05:19:51.990671Z",
     "iopub.status.busy": "2023-02-15T05:19:51.989948Z",
     "iopub.status.idle": "2023-02-15T05:19:51.993867Z",
     "shell.execute_reply": "2023-02-15T05:19:51.992982Z"
    },
    "papermill": {
     "duration": 0.018456,
     "end_time": "2023-02-15T05:19:51.995934",
     "exception": false,
     "start_time": "2023-02-15T05:19:51.977478",
     "status": "completed"
    },
    "tags": []
   },
   "outputs": [],
   "source": [
    "#step_4.b.hint()"
   ]
  },
  {
   "cell_type": "code",
   "execution_count": 15,
   "id": "cd13befc",
   "metadata": {
    "execution": {
     "iopub.execute_input": "2023-02-15T05:19:52.020000Z",
     "iopub.status.busy": "2023-02-15T05:19:52.019509Z",
     "iopub.status.idle": "2023-02-15T05:19:52.027788Z",
     "shell.execute_reply": "2023-02-15T05:19:52.026727Z"
    },
    "papermill": {
     "duration": 0.023054,
     "end_time": "2023-02-15T05:19:52.030197",
     "exception": false,
     "start_time": "2023-02-15T05:19:52.007143",
     "status": "completed"
    },
    "tags": []
   },
   "outputs": [
    {
     "data": {
      "application/javascript": [
       "parent.postMessage({\"jupyterEvent\": \"custom.exercise_interaction\", \"data\": {\"interactionType\": 3, \"questionType\": 4, \"questionId\": \"4.2_ThinkBlueReg\", \"learnToolsVersion\": \"0.3.4\", \"valueTowardsCompletion\": 0.0, \"failureMessage\": \"\", \"exceptionClass\": \"\", \"trace\": \"\", \"outcomeType\": 4}}, \"*\")"
      ],
      "text/plain": [
       "<IPython.core.display.Javascript object>"
      ]
     },
     "metadata": {},
     "output_type": "display_data"
    },
    {
     "data": {
      "text/markdown": [
       "<span style=\"color:#33cc99\">Solution:</span> Since the regression line has a slightly positive slope, this tells us that there is a slightly positive correlation between `'winpercent'` and `'sugarpercent'`. Thus, people have a slight preference for candies containing relatively more sugar."
      ],
      "text/plain": [
       "Solution: Since the regression line has a slightly positive slope, this tells us that there is a slightly positive correlation between `'winpercent'` and `'sugarpercent'`. Thus, people have a slight preference for candies containing relatively more sugar."
      ]
     },
     "metadata": {},
     "output_type": "display_data"
    }
   ],
   "source": [
    "# Check your answer (Run this code cell to receive credit!)\n",
    "step_4.b.solution()"
   ]
  },
  {
   "cell_type": "markdown",
   "id": "0cd38bb3",
   "metadata": {
    "papermill": {
     "duration": 0.010885,
     "end_time": "2023-02-15T05:19:52.052495",
     "exception": false,
     "start_time": "2023-02-15T05:19:52.041610",
     "status": "completed"
    },
    "tags": []
   },
   "source": [
    "## Step 5: Chocolate!\n",
    "\n",
    "In the code cell below, create a scatter plot to show the relationship between `'pricepercent'` (on the horizontal x-axis) and `'winpercent'` (on the vertical y-axis). Use the `'chocolate'` column to color-code the points.  _Don't add any regression lines just yet -- you'll do that in the next step!_"
   ]
  },
  {
   "cell_type": "code",
   "execution_count": 16,
   "id": "a966b047",
   "metadata": {
    "execution": {
     "iopub.execute_input": "2023-02-15T05:19:52.077272Z",
     "iopub.status.busy": "2023-02-15T05:19:52.076568Z",
     "iopub.status.idle": "2023-02-15T05:19:52.358403Z",
     "shell.execute_reply": "2023-02-15T05:19:52.357446Z"
    },
    "papermill": {
     "duration": 0.296881,
     "end_time": "2023-02-15T05:19:52.360647",
     "exception": false,
     "start_time": "2023-02-15T05:19:52.063766",
     "status": "completed"
    },
    "tags": []
   },
   "outputs": [
    {
     "data": {
      "application/javascript": [
       "parent.postMessage({\"jupyterEvent\": \"custom.exercise_interaction\", \"data\": {\"outcomeType\": 1, \"valueTowardsCompletion\": 0.3333333333333333, \"interactionType\": 1, \"questionType\": 2, \"questionId\": \"5_ColorScatter\", \"learnToolsVersion\": \"0.3.4\", \"failureMessage\": \"\", \"exceptionClass\": \"\", \"trace\": \"\"}}, \"*\")"
      ],
      "text/plain": [
       "<IPython.core.display.Javascript object>"
      ]
     },
     "metadata": {},
     "output_type": "display_data"
    },
    {
     "data": {
      "text/markdown": [
       "<span style=\"color:#33cc33\">Correct</span>"
      ],
      "text/plain": [
       "Correct"
      ]
     },
     "metadata": {},
     "output_type": "display_data"
    },
    {
     "data": {
      "image/png": "[encoded data removed]",
      "text/plain": [
       "<Figure size 640x480 with 1 Axes>"
      ]
     },
     "metadata": {},
     "output_type": "display_data"
    }
   ],
   "source": [
    "# Scatter plot showing the relationship between 'pricepercent', 'winpercent', and 'chocolate'\n",
    "____ # Your code here\n",
    "sns.scatterplot(x=candy_data['pricepercent'],y=candy_data['winpercent'],hue=candy_data['chocolate'])\n",
    "\n",
    "# Check your answer\n",
    "step_5.check()"
   ]
  },
  {
   "cell_type": "code",
   "execution_count": 17,
   "id": "ace3a48b",
   "metadata": {
    "execution": {
     "iopub.execute_input": "2023-02-15T05:19:52.387658Z",
     "iopub.status.busy": "2023-02-15T05:19:52.386965Z",
     "iopub.status.idle": "2023-02-15T05:19:52.391732Z",
     "shell.execute_reply": "2023-02-15T05:19:52.390641Z"
    },
    "papermill": {
     "duration": 0.020866,
     "end_time": "2023-02-15T05:19:52.394031",
     "exception": false,
     "start_time": "2023-02-15T05:19:52.373165",
     "status": "completed"
    },
    "tags": []
   },
   "outputs": [],
   "source": [
    "# Lines below will give you a hint or solution code\n",
    "#step_5.hint()\n",
    "#step_5.solution_plot()"
   ]
  },
  {
   "cell_type": "markdown",
   "id": "8af98331",
   "metadata": {
    "papermill": {
     "duration": 0.01186,
     "end_time": "2023-02-15T05:19:52.418573",
     "exception": false,
     "start_time": "2023-02-15T05:19:52.406713",
     "status": "completed"
    },
    "tags": []
   },
   "source": [
    "Can you see any interesting patterns in the scatter plot?  We'll investigate this plot further  by adding regression lines in the next step!\n",
    "\n",
    "## Step 6: Investigate chocolate\n",
    "\n",
    "#### Part A\n",
    "\n",
    "Create the same scatter plot you created in **Step 5**, but now with two regression lines, corresponding to (1) chocolate candies and (2) candies without chocolate."
   ]
  },
  {
   "cell_type": "code",
   "execution_count": 18,
   "id": "fd33c8e9",
   "metadata": {
    "execution": {
     "iopub.execute_input": "2023-02-15T05:19:52.445462Z",
     "iopub.status.busy": "2023-02-15T05:19:52.444231Z",
     "iopub.status.idle": "2023-02-15T05:19:53.038507Z",
     "shell.execute_reply": "2023-02-15T05:19:53.037377Z"
    },
    "papermill": {
     "duration": 0.610234,
     "end_time": "2023-02-15T05:19:53.041049",
     "exception": false,
     "start_time": "2023-02-15T05:19:52.430815",
     "status": "completed"
    },
    "tags": []
   },
   "outputs": [
    {
     "data": {
      "application/javascript": [
       "parent.postMessage({\"jupyterEvent\": \"custom.exercise_interaction\", \"data\": {\"outcomeType\": 1, \"valueTowardsCompletion\": 0.3333333333333333, \"interactionType\": 1, \"questionType\": 2, \"questionId\": \"6.1_PlotColorReg\", \"learnToolsVersion\": \"0.3.4\", \"failureMessage\": \"\", \"exceptionClass\": \"\", \"trace\": \"\"}}, \"*\")"
      ],
      "text/plain": [
       "<IPython.core.display.Javascript object>"
      ]
     },
     "metadata": {},
     "output_type": "display_data"
    },
    {
     "data": {
      "text/markdown": [
       "<span style=\"color:#33cc33\">Correct</span>"
      ],
      "text/plain": [
       "Correct"
      ]
     },
     "metadata": {},
     "output_type": "display_data"
    },
    {
     "data": {
      "image/png": "[encoded data removed]",
      "text/plain": [
       "<Figure size 578.611x500 with 1 Axes>"
      ]
     },
     "metadata": {},
     "output_type": "display_data"
    }
   ],
   "source": [
    "# Color-coded scatter plot w/ regression lines\n",
    "____ # Your code here\n",
    "sns.lmplot(x=\"pricepercent\", y=\"winpercent\", hue=\"chocolate\", data=candy_data)\n",
    "# Check your answer\n",
    "step_6.a.check()"
   ]
  },
  {
   "cell_type": "code",
   "execution_count": 19,
   "id": "d6f2ea68",
   "metadata": {
    "execution": {
     "iopub.execute_input": "2023-02-15T05:19:53.069402Z",
     "iopub.status.busy": "2023-02-15T05:19:53.068984Z",
     "iopub.status.idle": "2023-02-15T05:19:53.073708Z",
     "shell.execute_reply": "2023-02-15T05:19:53.072638Z"
    },
    "papermill": {
     "duration": 0.021373,
     "end_time": "2023-02-15T05:19:53.075942",
     "exception": false,
     "start_time": "2023-02-15T05:19:53.054569",
     "status": "completed"
    },
    "tags": []
   },
   "outputs": [],
   "source": [
    "# Lines below will give you a hint or solution code\n",
    "#step_6.a.hint()\n",
    "#step_6.a.solution_plot()"
   ]
  },
  {
   "cell_type": "markdown",
   "id": "02169779",
   "metadata": {
    "papermill": {
     "duration": 0.01422,
     "end_time": "2023-02-15T05:19:53.103379",
     "exception": false,
     "start_time": "2023-02-15T05:19:53.089159",
     "status": "completed"
    },
    "tags": []
   },
   "source": [
    "#### Part B\n",
    "\n",
    "Using the regression lines, what conclusions can you draw about the effects of chocolate and price on candy popularity?"
   ]
  },
  {
   "cell_type": "code",
   "execution_count": 20,
   "id": "d85c5ff4",
   "metadata": {
    "execution": {
     "iopub.execute_input": "2023-02-15T05:19:53.131056Z",
     "iopub.status.busy": "2023-02-15T05:19:53.130650Z",
     "iopub.status.idle": "2023-02-15T05:19:53.135377Z",
     "shell.execute_reply": "2023-02-15T05:19:53.134204Z"
    },
    "papermill": {
     "duration": 0.021444,
     "end_time": "2023-02-15T05:19:53.137764",
     "exception": false,
     "start_time": "2023-02-15T05:19:53.116320",
     "status": "completed"
    },
    "tags": []
   },
   "outputs": [],
   "source": [
    "#step_6.b.hint()"
   ]
  },
  {
   "cell_type": "code",
   "execution_count": 21,
   "id": "93610a14",
   "metadata": {
    "execution": {
     "iopub.execute_input": "2023-02-15T05:19:53.166306Z",
     "iopub.status.busy": "2023-02-15T05:19:53.165507Z",
     "iopub.status.idle": "2023-02-15T05:19:53.173683Z",
     "shell.execute_reply": "2023-02-15T05:19:53.172916Z"
    },
    "papermill": {
     "duration": 0.024735,
     "end_time": "2023-02-15T05:19:53.175844",
     "exception": false,
     "start_time": "2023-02-15T05:19:53.151109",
     "status": "completed"
    },
    "tags": []
   },
   "outputs": [
    {
     "data": {
      "application/javascript": [
       "parent.postMessage({\"jupyterEvent\": \"custom.exercise_interaction\", \"data\": {\"interactionType\": 3, \"questionType\": 4, \"questionId\": \"6.2_ThinkColorReg\", \"learnToolsVersion\": \"0.3.4\", \"valueTowardsCompletion\": 0.0, \"failureMessage\": \"\", \"exceptionClass\": \"\", \"trace\": \"\", \"outcomeType\": 4}}, \"*\")"
      ],
      "text/plain": [
       "<IPython.core.display.Javascript object>"
      ]
     },
     "metadata": {},
     "output_type": "display_data"
    },
    {
     "data": {
      "text/markdown": [
       "<span style=\"color:#33cc99\">Solution:</span> We'll begin with the regression line for chocolate candies. Since this line has a slightly positive slope, we can say that more expensive chocolate candies tend to be more popular (than relatively cheaper chocolate candies).  Likewise, since the regression line for candies without chocolate has a negative slope, we can say that if candies don't contain chocolate, they tend to be more popular when they are cheaper.  One important note, however, is that the dataset is quite small -- so we shouldn't invest too much trust in these patterns!  To inspire more confidence in the results, we should add more candies to the dataset."
      ],
      "text/plain": [
       "Solution: We'll begin with the regression line for chocolate candies. Since this line has a slightly positive slope, we can say that more expensive chocolate candies tend to be more popular (than relatively cheaper chocolate candies).  Likewise, since the regression line for candies without chocolate has a negative slope, we can say that if candies don't contain chocolate, they tend to be more popular when they are cheaper.  One important note, however, is that the dataset is quite small -- so we shouldn't invest too much trust in these patterns!  To inspire more confidence in the results, we should add more candies to the dataset."
      ]
     },
     "metadata": {},
     "output_type": "display_data"
    }
   ],
   "source": [
    "# Check your answer (Run this code cell to receive credit!)\n",
    "step_6.b.solution()"
   ]
  },
  {
   "cell_type": "markdown",
   "id": "df2c4c95",
   "metadata": {
    "papermill": {
     "duration": 0.013049,
     "end_time": "2023-02-15T05:19:53.202555",
     "exception": false,
     "start_time": "2023-02-15T05:19:53.189506",
     "status": "completed"
    },
    "tags": []
   },
   "source": [
    "## Step 7: Everybody loves chocolate.\n",
    "\n",
    "#### Part A\n",
    "\n",
    "Create a categorical scatter plot to highlight the relationship between `'chocolate'` and `'winpercent'`.  Put `'chocolate'` on the (horizontal) x-axis, and `'winpercent'` on the (vertical) y-axis."
   ]
  },
  {
   "cell_type": "code",
   "execution_count": 22,
   "id": "acc7e219",
   "metadata": {
    "execution": {
     "iopub.execute_input": "2023-02-15T05:19:53.231954Z",
     "iopub.status.busy": "2023-02-15T05:19:53.230746Z",
     "iopub.status.idle": "2023-02-15T05:19:53.660745Z",
     "shell.execute_reply": "2023-02-15T05:19:53.659163Z"
    },
    "papermill": {
     "duration": 0.448675,
     "end_time": "2023-02-15T05:19:53.664710",
     "exception": false,
     "start_time": "2023-02-15T05:19:53.216035",
     "status": "completed"
    },
    "tags": []
   },
   "outputs": [
    {
     "data": {
      "application/javascript": [
       "parent.postMessage({\"jupyterEvent\": \"custom.exercise_interaction\", \"data\": {\"outcomeType\": 1, \"valueTowardsCompletion\": 0.3333333333333333, \"interactionType\": 1, \"questionType\": 2, \"questionId\": \"7.1_PlotSwarm\", \"learnToolsVersion\": \"0.3.4\", \"failureMessage\": \"\", \"exceptionClass\": \"\", \"trace\": \"\"}}, \"*\")"
      ],
      "text/plain": [
       "<IPython.core.display.Javascript object>"
      ]
     },
     "metadata": {},
     "output_type": "display_data"
    },
    {
     "data": {
      "text/markdown": [
       "<span style=\"color:#33cc33\">Correct</span>"
      ],
      "text/plain": [
       "Correct"
      ]
     },
     "metadata": {},
     "output_type": "display_data"
    },
    {
     "data": {
      "image/png": "[encoded data removed]",
      "text/plain": [
       "<Figure size 640x480 with 1 Axes>"
      ]
     },
     "metadata": {},
     "output_type": "display_data"
    }
   ],
   "source": [
    "# Scatter plot showing the relationship between 'chocolate' and 'winpercent'\n",
    "____ # Your code here\n",
    "sns.swarmplot(x=candy_data['chocolate'], y=candy_data['winpercent'])\n",
    "# Check your answer\n",
    "step_7.a.check()"
   ]
  },
  {
   "cell_type": "code",
   "execution_count": 23,
   "id": "031ba08a",
   "metadata": {
    "execution": {
     "iopub.execute_input": "2023-02-15T05:19:53.718119Z",
     "iopub.status.busy": "2023-02-15T05:19:53.717403Z",
     "iopub.status.idle": "2023-02-15T05:19:53.721155Z",
     "shell.execute_reply": "2023-02-15T05:19:53.720439Z"
    },
    "papermill": {
     "duration": 0.02233,
     "end_time": "2023-02-15T05:19:53.723078",
     "exception": false,
     "start_time": "2023-02-15T05:19:53.700748",
     "status": "completed"
    },
    "tags": []
   },
   "outputs": [],
   "source": [
    "# Lines below will give you a hint or solution code\n",
    "#step_7.a.hint()\n",
    "#step_7.a.solution_plot()"
   ]
  },
  {
   "cell_type": "markdown",
   "id": "1921c272",
   "metadata": {
    "papermill": {
     "duration": 0.013677,
     "end_time": "2023-02-15T05:19:53.750889",
     "exception": false,
     "start_time": "2023-02-15T05:19:53.737212",
     "status": "completed"
    },
    "tags": []
   },
   "source": [
    "#### Part B\n",
    "\n",
    "You decide to dedicate a section of your report to the fact that chocolate candies tend to be more popular than candies without chocolate.  Which plot is more appropriate to tell this story: the plot from **Step 6**, or the plot from **Step 7**?"
   ]
  },
  {
   "cell_type": "code",
   "execution_count": 24,
   "id": "9473509d",
   "metadata": {
    "execution": {
     "iopub.execute_input": "2023-02-15T05:19:53.781473Z",
     "iopub.status.busy": "2023-02-15T05:19:53.780764Z",
     "iopub.status.idle": "2023-02-15T05:19:53.784929Z",
     "shell.execute_reply": "2023-02-15T05:19:53.783967Z"
    },
    "papermill": {
     "duration": 0.022167,
     "end_time": "2023-02-15T05:19:53.787085",
     "exception": false,
     "start_time": "2023-02-15T05:19:53.764918",
     "status": "completed"
    },
    "tags": []
   },
   "outputs": [],
   "source": [
    "#step_7.b.hint()"
   ]
  },
  {
   "cell_type": "code",
   "execution_count": 25,
   "id": "e907e877",
   "metadata": {
    "execution": {
     "iopub.execute_input": "2023-02-15T05:19:53.817207Z",
     "iopub.status.busy": "2023-02-15T05:19:53.816783Z",
     "iopub.status.idle": "2023-02-15T05:19:53.824867Z",
     "shell.execute_reply": "2023-02-15T05:19:53.824073Z"
    },
    "papermill": {
     "duration": 0.025572,
     "end_time": "2023-02-15T05:19:53.826808",
     "exception": false,
     "start_time": "2023-02-15T05:19:53.801236",
     "status": "completed"
    },
    "tags": []
   },
   "outputs": [
    {
     "data": {
      "application/javascript": [
       "parent.postMessage({\"jupyterEvent\": \"custom.exercise_interaction\", \"data\": {\"interactionType\": 3, \"questionType\": 4, \"questionId\": \"7.2_ThinkSwarm\", \"learnToolsVersion\": \"0.3.4\", \"valueTowardsCompletion\": 0.0, \"failureMessage\": \"\", \"exceptionClass\": \"\", \"trace\": \"\", \"outcomeType\": 4}}, \"*\")"
      ],
      "text/plain": [
       "<IPython.core.display.Javascript object>"
      ]
     },
     "metadata": {},
     "output_type": "display_data"
    },
    {
     "data": {
      "text/markdown": [
       "<span style=\"color:#33cc99\">Solution:</span> In this case, the categorical scatter plot from **Step 7** is the more appropriate plot. While both plots tell the desired story, the plot from **Step 6** conveys far more information that could distract from the main point."
      ],
      "text/plain": [
       "Solution: In this case, the categorical scatter plot from **Step 7** is the more appropriate plot. While both plots tell the desired story, the plot from **Step 6** conveys far more information that could distract from the main point."
      ]
     },
     "metadata": {},
     "output_type": "display_data"
    }
   ],
   "source": [
    "# Check your answer (Run this code cell to receive credit!)\n",
    "step_7.b.solution()"
   ]
  },
  {
   "cell_type": "markdown",
   "id": "4359c9cc",
   "metadata": {
    "papermill": {
     "duration": 0.014211,
     "end_time": "2023-02-15T05:19:53.855447",
     "exception": false,
     "start_time": "2023-02-15T05:19:53.841236",
     "status": "completed"
    },
    "tags": []
   },
   "source": [
    "## Keep going\n",
    "\n",
    "Explore **[histograms and density plots](https://www.kaggle.com/alexisbcook/distributions)**."
   ]
  },
  {
   "cell_type": "markdown",
   "id": "af4592ca",
   "metadata": {
    "papermill": {
     "duration": 0.013922,
     "end_time": "2023-02-15T05:19:53.883689",
     "exception": false,
     "start_time": "2023-02-15T05:19:53.869767",
     "status": "completed"
    },
    "tags": []
   },
   "source": [
    "---\n",
    "\n",
    "\n",
    "\n",
    "\n",
    "*Have questions or comments? Visit the [course discussion forum](https://www.kaggle.com/learn/data-visualization/discussion) to chat with other learners.*"
   ]
  }
 ],
 "metadata": {
  "kernelspec": {
   "display_name": "Python 3",
   "language": "python",
   "name": "python3"
  },
  "language_info": {
   "codemirror_mode": {
    "name": "ipython",
    "version": 3
   },
   "file_extension": ".py",
   "mimetype": "text/x-python",
   "name": "python",
   "nbconvert_exporter": "python",
   "pygments_lexer": "ipython3",
   "version": "3.7.12"
  },
  "papermill": {
   "default_parameters": {},
   "duration": 14.20348,
   "end_time": "2023-02-15T05:19:54.618828",
   "environment_variables": {},
   "exception": null,
   "input_path": "__notebook__.ipynb",
   "output_path": "__notebook__.ipynb",
   "parameters": {},
   "start_time": "2023-02-15T05:19:40.415348",
   "version": "2.3.4"
  }
 },
 "nbformat": 4,
 "nbformat_minor": 5
}
